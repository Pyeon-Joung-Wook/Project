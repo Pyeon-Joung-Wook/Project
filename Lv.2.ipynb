{
 "cells": [
  {
   "cell_type": "code",
   "execution_count": 7,
   "metadata": {},
   "outputs": [],
   "source": [
    "import pandas as pd\n",
    "from bs4 import BeautifulSoup\n",
    "import requests\n",
    "import json\n",
    "from pandas.io.json import json_normalize\n",
    "from selenium import webdriver\n",
    "import time\n",
    "import re\n",
    "import matplotlib.pyplot as plt\n",
    "import numpy as np"
   ]
  },
  {
   "cell_type": "code",
   "execution_count": 3,
   "metadata": {},
   "outputs": [],
   "source": [
    "file_path = 'C:/Users/elris/Python/Untitled Folder/기업텍스트.xlsx'\n",
    "\n",
    "data = pd.read_excel(file_path, sheet_name='Sheet1')"
   ]
  },
  {
   "cell_type": "code",
   "execution_count": 14,
   "metadata": {},
   "outputs": [
    {
     "name": "stderr",
     "output_type": "stream",
     "text": [
      "C:\\Users\\elris\\Anaconda3\\lib\\site-packages\\ipykernel_launcher.py:9: SettingWithCopyWarning: \n",
      "A value is trying to be set on a copy of a slice from a DataFrame\n",
      "\n",
      "See the caveats in the documentation: http://pandas.pydata.org/pandas-docs/stable/indexing.html#indexing-view-versus-copy\n",
      "  if __name__ == '__main__':\n"
     ]
    }
   ],
   "source": [
    "from ekonlpy.tag import Mecab\n",
    "mecab = Mecab()\n",
    "for num, i in enumerate(data['내용']) : \n",
    "    token_list = ''\n",
    "    token = mecab.pos(i)\n",
    "    for k in token :\n",
    "        token_list += k[0]\n",
    "        token_list += ' '\n",
    "    data['내용'][num] = token_list"
   ]
  },
  {
   "cell_type": "code",
   "execution_count": 12,
   "metadata": {},
   "outputs": [
    {
     "data": {
      "text/html": [
       "<div>\n",
       "<style scoped>\n",
       "    .dataframe tbody tr th:only-of-type {\n",
       "        vertical-align: middle;\n",
       "    }\n",
       "\n",
       "    .dataframe tbody tr th {\n",
       "        vertical-align: top;\n",
       "    }\n",
       "\n",
       "    .dataframe thead th {\n",
       "        text-align: right;\n",
       "    }\n",
       "</style>\n",
       "<table border=\"1\" class=\"dataframe\">\n",
       "  <thead>\n",
       "    <tr style=\"text-align: right;\">\n",
       "      <th></th>\n",
       "      <th>Unnamed: 0</th>\n",
       "      <th>연도</th>\n",
       "      <th>회사명</th>\n",
       "      <th>종목코드</th>\n",
       "      <th>업종</th>\n",
       "      <th>보고서</th>\n",
       "      <th>발행일</th>\n",
       "      <th>내용</th>\n",
       "    </tr>\n",
       "  </thead>\n",
       "  <tbody>\n",
       "    <tr>\n",
       "      <th>0</th>\n",
       "      <td>0</td>\n",
       "      <td>2009</td>\n",
       "      <td>CS홀딩스</td>\n",
       "      <td>590</td>\n",
       "      <td>기타 금융업</td>\n",
       "      <td>사업보고서 (2009.12)</td>\n",
       "      <td>20100331</td>\n",
       "      <td>이사 의 경영진단 및 분석 의견 1 . 개요 지난 한 해 를 돌이켜 볼 때 우리 는...</td>\n",
       "    </tr>\n",
       "    <tr>\n",
       "      <th>1</th>\n",
       "      <td>1</td>\n",
       "      <td>2009</td>\n",
       "      <td>주연테크</td>\n",
       "      <td>44380</td>\n",
       "      <td>컴퓨터 및 주변장치 제조업</td>\n",
       "      <td>사업보고서 (2009.12)</td>\n",
       "      <td>20100331</td>\n",
       "      <td>이사 의 경영진단 및 분석 의견 1 . 예측 정보 에 대한 주 의 사항 당사 가 동...</td>\n",
       "    </tr>\n",
       "    <tr>\n",
       "      <th>2</th>\n",
       "      <td>2</td>\n",
       "      <td>2009</td>\n",
       "      <td>국도화학</td>\n",
       "      <td>7690</td>\n",
       "      <td>기초 화학물질 제조업</td>\n",
       "      <td>사업보고서 (2009.12)</td>\n",
       "      <td>20100330</td>\n",
       "      <td>이사 의 경영진단 및 분석 의견 1 . 예측 정보 에 대한 주 의 사항 당사 가 동...</td>\n",
       "    </tr>\n",
       "    <tr>\n",
       "      <th>3</th>\n",
       "      <td>3</td>\n",
       "      <td>2009</td>\n",
       "      <td>광주신세계</td>\n",
       "      <td>37710</td>\n",
       "      <td>종합 소매업</td>\n",
       "      <td>사업보고서 (2009.12)</td>\n",
       "      <td>20100331</td>\n",
       "      <td>이사 의 경영진단 및 분석 의견 1 . 예측 정보 에 대한 주 의 사항 당사 가 동...</td>\n",
       "    </tr>\n",
       "    <tr>\n",
       "      <th>4</th>\n",
       "      <td>4</td>\n",
       "      <td>2009</td>\n",
       "      <td>세방전지</td>\n",
       "      <td>4490</td>\n",
       "      <td>일차전지 및 축전지 제조업</td>\n",
       "      <td>사업보고서 (2009.12)</td>\n",
       "      <td>20100331</td>\n",
       "      <td>이사 의 경영진단 및 분석 의견 1 . 예측 정보 에 대한 주 의 사항 당사 가 동...</td>\n",
       "    </tr>\n",
       "  </tbody>\n",
       "</table>\n",
       "</div>"
      ],
      "text/plain": [
       "   Unnamed: 0    연도    회사명   종목코드              업종              보고서       발행일  \\\n",
       "0           0  2009  CS홀딩스    590          기타 금융업  사업보고서 (2009.12)  20100331   \n",
       "1           1  2009   주연테크  44380  컴퓨터 및 주변장치 제조업  사업보고서 (2009.12)  20100331   \n",
       "2           2  2009   국도화학   7690     기초 화학물질 제조업  사업보고서 (2009.12)  20100330   \n",
       "3           3  2009  광주신세계  37710          종합 소매업  사업보고서 (2009.12)  20100331   \n",
       "4           4  2009   세방전지   4490  일차전지 및 축전지 제조업  사업보고서 (2009.12)  20100331   \n",
       "\n",
       "                                                  내용  \n",
       "0  이사 의 경영진단 및 분석 의견 1 . 개요 지난 한 해 를 돌이켜 볼 때 우리 는...  \n",
       "1  이사 의 경영진단 및 분석 의견 1 . 예측 정보 에 대한 주 의 사항 당사 가 동...  \n",
       "2  이사 의 경영진단 및 분석 의견 1 . 예측 정보 에 대한 주 의 사항 당사 가 동...  \n",
       "3  이사 의 경영진단 및 분석 의견 1 . 예측 정보 에 대한 주 의 사항 당사 가 동...  \n",
       "4  이사 의 경영진단 및 분석 의견 1 . 예측 정보 에 대한 주 의 사항 당사 가 동...  "
      ]
     },
     "execution_count": 12,
     "metadata": {},
     "output_type": "execute_result"
    }
   ],
   "source": [
    "data.head()"
   ]
  },
  {
   "cell_type": "code",
   "execution_count": 8,
   "metadata": {},
   "outputs": [],
   "source": [
    "def length_adjust(str_) : \n",
    "    return (2-len(str_)) * '0' + str_\n",
    "\n",
    "def date_convertor(date) : \n",
    "    year = length_adjust(str(date.year))\n",
    "    month = length_adjust(str(date.month))\n",
    "    day = length_adjust(str(date.day))\n",
    "    yyyymmdd = int(year+month+day)\n",
    "    return yyyymmdd"
   ]
  },
  {
   "cell_type": "code",
   "execution_count": 9,
   "metadata": {},
   "outputs": [],
   "source": [
    "lv2_index = pd.date_range(start='20100101', end='20191231')\n",
    "lv2_index = list(map(date_convertor,lv2_index))\n",
    "lv2_columns = data['회사명'].unique()\n",
    "\n",
    "lv2_df = \\\n",
    "pd.DataFrame(np.full(shape=(len(lv2_index),len(lv2_columns)),fill_value=np.nan),index=lv2_index,columns=lv2_columns)"
   ]
  },
  {
   "cell_type": "code",
   "execution_count": 10,
   "metadata": {},
   "outputs": [
    {
     "name": "stdout",
     "output_type": "stream",
     "text": [
      "Wall time: 28.8 sotal : 781\n"
     ]
    }
   ],
   "source": [
    "%%time\n",
    "company_list = data['회사명'].unique()\n",
    "for process,corp_name in enumerate(company_list) : \n",
    "    print(\"Process : {} | Total : {}\".format(process+1,len(company_list)),end='\\r')\n",
    "    # slicing the dataset by corp_name\n",
    "    tmp_df = data[data['회사명'] == corp_name]\n",
    "    \n",
    "    # set-up the time range \n",
    "    min_yr = tmp_df['연도'].min()\n",
    "    max_yr = tmp_df['연도'].max()\n",
    "    \n",
    "    # container for saving the value \n",
    "    # those lists should be refreshed every loop.\n",
    "    sim_ls = []; year_ls = []\n",
    "    \n",
    "    for yr in range(min_yr,max_yr) : \n",
    "        pre_df = tmp_df[tmp_df['연도'] == yr]\n",
    "        next_df = tmp_df[tmp_df['연도'] == yr+1]\n",
    "        publish_date = tmp_df[tmp_df['연도'] == yr+1]['발행일']\n",
    "        if len(pre_df) == 0 or len(next_df) == 0:\n",
    "            continue\n",
    "            # we don't have data\n",
    "            # for example, we have 2014 but don't 2015.\n",
    "            # therfore we can't measure similarity between 2014,2015.\n",
    "            # so the value in lv2 at 2015 should be nan\n",
    "            \n",
    "        else : \n",
    "            pre_token = pre_df['내용'].map(lambda x : x.split(\" \")).values\n",
    "            next_token = next_df['내용'].map(lambda x : x.split(\" \")).values   \n",
    "            if type(pre_token[0]) == list and type(next_token[0]) == list :\n",
    "                sim = len(set(next_token[0])&set(pre_token[0]))/len(set(next_token[0]))\n",
    "            else : \n",
    "                 sim = len(set(next_token)&set(pre_token))/len(set(next_token))\n",
    "        year_ls.append(publish_date.values[0])\n",
    "        sim_ls.append(sim)\n",
    "        \n",
    "    assert len(year_ls) == len(sim_ls)\n",
    "    lv2_df.loc[year_ls,corp_name] = sim_ls    "
   ]
  },
  {
   "cell_type": "code",
   "execution_count": 11,
   "metadata": {},
   "outputs": [
    {
     "data": {
      "text/plain": [
       "CS홀딩스        0.772146\n",
       "주연테크         0.719782\n",
       "국도화학         0.750801\n",
       "광주신세계        0.819690\n",
       "세방전지         0.867543\n",
       "S&TC         0.898368\n",
       "제주은행         0.798649\n",
       "한익스프레스       0.806586\n",
       "태원물산         0.784049\n",
       "무림P&P        0.709589\n",
       "LG전자         0.646246\n",
       "한성기업         0.801206\n",
       "한국화장품제조      0.769476\n",
       "한전KPS        0.732746\n",
       "조광피혁         0.732616\n",
       "텔코웨어         0.814024\n",
       "일성신약         0.761710\n",
       "대웅제약         0.838582\n",
       "SPC삼립        0.796290\n",
       "동성화학         0.684452\n",
       "한농화성         0.793406\n",
       "한화투자증권       0.631658\n",
       "삼영무역         0.770433\n",
       "한국금융지주       0.678619\n",
       "한양증권         0.765427\n",
       "유안타증권        0.832912\n",
       "S-Oil        0.772415\n",
       "제일파마홀딩스      0.853680\n",
       "하이스틸         0.737263\n",
       "신세계푸드        0.787443\n",
       "               ...   \n",
       "제일약품         0.684783\n",
       "오리온          0.914062\n",
       "넷마블          0.608475\n",
       "테이팩스         0.739414\n",
       "경동도시가스       0.819444\n",
       "미원에스씨        0.951299\n",
       "롯데제과         0.938776\n",
       "신한알파리츠       0.956522\n",
       "쿠쿠홈시스        0.825221\n",
       "애경산업         0.914062\n",
       "이리츠코크렙       0.958115\n",
       "대우조선해양       0.641026\n",
       "코스모화학             NaN\n",
       "코스모신소재            NaN\n",
       "드림텍               NaN\n",
       "현대오토에버            NaN\n",
       "효성티앤씨             NaN\n",
       "효성첨단소재            NaN\n",
       "효성중공업             NaN\n",
       "롯데정보통신            NaN\n",
       "티웨이항공             NaN\n",
       "한일시멘트             NaN\n",
       "HDC현대산업개발         NaN\n",
       "효성화학              NaN\n",
       "에어부산              NaN\n",
       "아시아나IDT           NaN\n",
       "세아제강              NaN\n",
       "우진아이엔에스           NaN\n",
       "하나제약              NaN\n",
       "이수화학              NaN\n",
       "Length: 781, dtype: float64"
      ]
     },
     "execution_count": 11,
     "metadata": {},
     "output_type": "execute_result"
    }
   ],
   "source": [
    "lv2_df.mean()"
   ]
  },
  {
   "cell_type": "code",
   "execution_count": null,
   "metadata": {},
   "outputs": [],
   "source": []
  }
 ],
 "metadata": {
  "kernelspec": {
   "display_name": "Python 3",
   "language": "python",
   "name": "python3"
  },
  "language_info": {
   "codemirror_mode": {
    "name": "ipython",
    "version": 3
   },
   "file_extension": ".py",
   "mimetype": "text/x-python",
   "name": "python",
   "nbconvert_exporter": "python",
   "pygments_lexer": "ipython3",
   "version": "3.7.3"
  }
 },
 "nbformat": 4,
 "nbformat_minor": 2
}
