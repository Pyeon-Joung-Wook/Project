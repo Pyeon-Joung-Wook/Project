{
 "cells": [
  {
   "cell_type": "code",
   "execution_count": 1,
   "metadata": {},
   "outputs": [],
   "source": [
    "import requests\n",
    "from bs4 import BeautifulSoup"
   ]
  },
  {
   "cell_type": "code",
   "execution_count": 2,
   "metadata": {},
   "outputs": [],
   "source": [
    "target_url = 'https://www.wadiz.kr/web/wreward/ajaxGetCardList'\n",
    "params = {\n",
    "    'startNum': 1000,\n",
    "    'order': 'recommend',\n",
    "    'keyword' : '',\n",
    "    'endYn' : 'ALL'\n",
    "}"
   ]
  },
  {
   "cell_type": "code",
   "execution_count": 3,
   "metadata": {},
   "outputs": [
    {
     "data": {
      "text/plain": [
       "<Response [200]>"
      ]
     },
     "execution_count": 3,
     "metadata": {},
     "output_type": "execute_result"
    }
   ],
   "source": [
    "resp = requests.get(target_url, params=params)\n",
    "resp"
   ]
  },
  {
   "cell_type": "code",
   "execution_count": 4,
   "metadata": {},
   "outputs": [],
   "source": [
    "json_content = resp.json()"
   ]
  },
  {
   "cell_type": "code",
   "execution_count": 18,
   "metadata": {
    "scrolled": true
   },
   "outputs": [
    {
     "data": {
      "text/plain": [
       "dict_keys(['success', 'code', 'title', 'message', 'url', 'additionalParams', 'data'])"
      ]
     },
     "execution_count": 18,
     "metadata": {},
     "output_type": "execute_result"
    }
   ],
   "source": [
    "json_content.keys()"
   ]
  },
  {
   "cell_type": "code",
   "execution_count": 6,
   "metadata": {},
   "outputs": [
    {
     "data": {
      "text/plain": [
       "dict"
      ]
     },
     "execution_count": 6,
     "metadata": {},
     "output_type": "execute_result"
    }
   ],
   "source": [
    "type(json_content)"
   ]
  },
  {
   "cell_type": "code",
   "execution_count": 19,
   "metadata": {},
   "outputs": [
    {
     "data": {
      "text/plain": [
       "[{'campaignId': 26537,\n",
       "  'title': ' [여성청결제] for 엄마, 누나, 할머니, 동생, 아내, 여자친구',\n",
       "  'coreMessage': \"아직도 모르세요? 당당한 그녀들의 시크릿템! 성분갑 브랜드로 유명한 분코(Boonco)가 '식물성 성분을 사용한 pH 5.5 약산성 비건 여성청결제’를 와디즈에서 최초 공개합니다.\",\n",
       "  'photoUrl': 'https://cdn.wadiz.kr/wwwwadiz/green001/2018/1217/20181217162820112_26537.jpg/wadiz/format/jpg/quality/80/optimize',\n",
       "  'photoThumbnail': 0,\n",
       "  'photoThumbnailUrl': None,\n",
       "  'nickName': '주식회사 분코',\n",
       "  'hostName': None,\n",
       "  'encourageCnt': -1,\n",
       "  'popularPoint': 0,\n",
       "  'participationCnt': 533,\n",
       "  'totalBackedAmount': 19386500,\n",
       "  'achievementRate': 3877,\n",
       "  'remainingDay': -361,\n",
       "  'isAllOrNothing': 1,\n",
       "  'endYn': 1,\n",
       "  'userPhotoUrl': None,\n",
       "  'isOpen': 1,\n",
       "  'miniBoardCnt': 0,\n",
       "  'isStandingBy': 0,\n",
       "  'isSubmitted': 0,\n",
       "  'userId': -1,\n",
       "  'encUserId': 1245680117,\n",
       "  'encIntUserId': 1245680117,\n",
       "  'globalId': 0,\n",
       "  'characterColor': None,\n",
       "  'targetAmount': 0,\n",
       "  'targetMessage': None,\n",
       "  'hashKeyword': None,\n",
       "  'campaignUpdateCnt': 0,\n",
       "  'blurPhotoUrl': None,\n",
       "  'blurCharacterColor': None,\n",
       "  'custValueCode': 311,\n",
       "  'custValueCodeNm': '뷰티',\n",
       "  'whenOpen': '2018-12-06 14:00:29',\n",
       "  'linkType': None,\n",
       "  'linkUrl': None,\n",
       "  'companyType': None,\n",
       "  'companyTypeNm': None,\n",
       "  'signatureCnt': -1,\n",
       "  'waditorSays': None,\n",
       "  'waditorTitle': None,\n",
       "  'supportFBCnt': 0,\n",
       "  'incomeDeductYn': None,\n",
       "  'privateYn': None,\n",
       "  'eqCamStats': None,\n",
       "  'listCount': 0,\n",
       "  'premiumYn': None,\n",
       "  'main': False,\n",
       "  'openYear': None}]"
      ]
     },
     "execution_count": 19,
     "metadata": {},
     "output_type": "execute_result"
    }
   ],
   "source": [
    "json_content['data'][0:1]"
   ]
  },
  {
   "cell_type": "code",
   "execution_count": 24,
   "metadata": {},
   "outputs": [
    {
     "data": {
      "text/plain": [
       "7"
      ]
     },
     "execution_count": 24,
     "metadata": {},
     "output_type": "execute_result"
    }
   ],
   "source": [
    "len(json_content)"
   ]
  },
  {
   "cell_type": "code",
   "execution_count": 25,
   "metadata": {},
   "outputs": [],
   "source": [
    "import pandas as pd"
   ]
  },
  {
   "cell_type": "code",
   "execution_count": 26,
   "metadata": {
    "scrolled": true
   },
   "outputs": [
    {
     "data": {
      "text/html": [
       "<div>\n",
       "<style scoped>\n",
       "    .dataframe tbody tr th:only-of-type {\n",
       "        vertical-align: middle;\n",
       "    }\n",
       "\n",
       "    .dataframe tbody tr th {\n",
       "        vertical-align: top;\n",
       "    }\n",
       "\n",
       "    .dataframe thead th {\n",
       "        text-align: right;\n",
       "    }\n",
       "</style>\n",
       "<table border=\"1\" class=\"dataframe\">\n",
       "  <thead>\n",
       "    <tr style=\"text-align: right;\">\n",
       "      <th></th>\n",
       "      <th>achievementRate</th>\n",
       "      <th>blurCharacterColor</th>\n",
       "      <th>blurPhotoUrl</th>\n",
       "      <th>campaignId</th>\n",
       "      <th>campaignUpdateCnt</th>\n",
       "      <th>characterColor</th>\n",
       "      <th>companyType</th>\n",
       "      <th>companyTypeNm</th>\n",
       "      <th>coreMessage</th>\n",
       "      <th>custValueCode</th>\n",
       "      <th>...</th>\n",
       "      <th>supportFBCnt</th>\n",
       "      <th>targetAmount</th>\n",
       "      <th>targetMessage</th>\n",
       "      <th>title</th>\n",
       "      <th>totalBackedAmount</th>\n",
       "      <th>userId</th>\n",
       "      <th>userPhotoUrl</th>\n",
       "      <th>waditorSays</th>\n",
       "      <th>waditorTitle</th>\n",
       "      <th>whenOpen</th>\n",
       "    </tr>\n",
       "  </thead>\n",
       "  <tbody>\n",
       "    <tr>\n",
       "      <th>0</th>\n",
       "      <td>3877</td>\n",
       "      <td>None</td>\n",
       "      <td>None</td>\n",
       "      <td>26537</td>\n",
       "      <td>0</td>\n",
       "      <td>None</td>\n",
       "      <td>None</td>\n",
       "      <td>None</td>\n",
       "      <td>아직도 모르세요? 당당한 그녀들의 시크릿템! 성분갑 브랜드로 유명한 분코(Boonc...</td>\n",
       "      <td>311</td>\n",
       "      <td>...</td>\n",
       "      <td>0</td>\n",
       "      <td>0</td>\n",
       "      <td>None</td>\n",
       "      <td>[여성청결제] for 엄마, 누나, 할머니, 동생, 아내, 여자친구</td>\n",
       "      <td>19386500</td>\n",
       "      <td>-1</td>\n",
       "      <td>None</td>\n",
       "      <td>None</td>\n",
       "      <td>None</td>\n",
       "      <td>2018-12-06 14:00:29</td>\n",
       "    </tr>\n",
       "    <tr>\n",
       "      <th>1</th>\n",
       "      <td>3874</td>\n",
       "      <td>None</td>\n",
       "      <td>None</td>\n",
       "      <td>36333</td>\n",
       "      <td>0</td>\n",
       "      <td>None</td>\n",
       "      <td>None</td>\n",
       "      <td>None</td>\n",
       "      <td>향수로 덮을수록 불쾌해지는 악취! 호르몬으로 인한 악취는 호르몬을 움직여주면 향기가...</td>\n",
       "      <td>311</td>\n",
       "      <td>...</td>\n",
       "      <td>0</td>\n",
       "      <td>0</td>\n",
       "      <td>None</td>\n",
       "      <td>3400%앵콜⭐2 in 1 천연향수&amp;여성/남성청결제, 위생·향기</td>\n",
       "      <td>19370300</td>\n",
       "      <td>-1</td>\n",
       "      <td>None</td>\n",
       "      <td>None</td>\n",
       "      <td>None</td>\n",
       "      <td>2019-06-26 14:00:30</td>\n",
       "    </tr>\n",
       "    <tr>\n",
       "      <th>2</th>\n",
       "      <td>3873</td>\n",
       "      <td>None</td>\n",
       "      <td>None</td>\n",
       "      <td>38294</td>\n",
       "      <td>0</td>\n",
       "      <td>None</td>\n",
       "      <td>None</td>\n",
       "      <td>None</td>\n",
       "      <td>당신의 밤을 불태울 5000mg. \\r\\n지친 남성들을 위한 혁신적인 제안. 이유있...</td>\n",
       "      <td>289</td>\n",
       "      <td>...</td>\n",
       "      <td>0</td>\n",
       "      <td>0</td>\n",
       "      <td>None</td>\n",
       "      <td>영웅의 힘을 탐하다! 남성활력 아르기닌 '아르맨'</td>\n",
       "      <td>38734600</td>\n",
       "      <td>-1</td>\n",
       "      <td>None</td>\n",
       "      <td>None</td>\n",
       "      <td>None</td>\n",
       "      <td>2019-08-12 14:00:33</td>\n",
       "    </tr>\n",
       "    <tr>\n",
       "      <th>3</th>\n",
       "      <td>3873</td>\n",
       "      <td>None</td>\n",
       "      <td>None</td>\n",
       "      <td>38769</td>\n",
       "      <td>0</td>\n",
       "      <td>None</td>\n",
       "      <td>None</td>\n",
       "      <td>None</td>\n",
       "      <td>\"여성청결제 믿고 사용해도 될까?\" #착한성분#냄새 #분비물에 효과적인 이너 여성청...</td>\n",
       "      <td>311</td>\n",
       "      <td>...</td>\n",
       "      <td>0</td>\n",
       "      <td>0</td>\n",
       "      <td>None</td>\n",
       "      <td>[2935% 앵콜]\"신개념여성청결제\" Y존 냄새습기먹는 하마.이너샤인</td>\n",
       "      <td>19367000</td>\n",
       "      <td>-1</td>\n",
       "      <td>None</td>\n",
       "      <td>None</td>\n",
       "      <td>None</td>\n",
       "      <td>2019-10-07 17:06:59</td>\n",
       "    </tr>\n",
       "    <tr>\n",
       "      <th>4</th>\n",
       "      <td>3873</td>\n",
       "      <td>None</td>\n",
       "      <td>None</td>\n",
       "      <td>18614</td>\n",
       "      <td>0</td>\n",
       "      <td>None</td>\n",
       "      <td>None</td>\n",
       "      <td>None</td>\n",
       "      <td>내 귀에 꼭 맞는 트루 와이어리스 이어폰 – VieFit! 글로벌펀딩 성공과 향상된...</td>\n",
       "      <td>287</td>\n",
       "      <td>...</td>\n",
       "      <td>0</td>\n",
       "      <td>0</td>\n",
       "      <td>None</td>\n",
       "      <td>글로벌 10억,돌려끼우는 완전무선이어폰, 커스텀핏 비핏!</td>\n",
       "      <td>193664901</td>\n",
       "      <td>-1</td>\n",
       "      <td>None</td>\n",
       "      <td>None</td>\n",
       "      <td>None</td>\n",
       "      <td>2018-11-01 14:00:27</td>\n",
       "    </tr>\n",
       "  </tbody>\n",
       "</table>\n",
       "<p>5 rows × 50 columns</p>\n",
       "</div>"
      ],
      "text/plain": [
       "   achievementRate blurCharacterColor blurPhotoUrl  campaignId  \\\n",
       "0             3877               None         None       26537   \n",
       "1             3874               None         None       36333   \n",
       "2             3873               None         None       38294   \n",
       "3             3873               None         None       38769   \n",
       "4             3873               None         None       18614   \n",
       "\n",
       "   campaignUpdateCnt characterColor companyType companyTypeNm  \\\n",
       "0                  0           None        None          None   \n",
       "1                  0           None        None          None   \n",
       "2                  0           None        None          None   \n",
       "3                  0           None        None          None   \n",
       "4                  0           None        None          None   \n",
       "\n",
       "                                         coreMessage  custValueCode  ...  \\\n",
       "0  아직도 모르세요? 당당한 그녀들의 시크릿템! 성분갑 브랜드로 유명한 분코(Boonc...            311  ...   \n",
       "1  향수로 덮을수록 불쾌해지는 악취! 호르몬으로 인한 악취는 호르몬을 움직여주면 향기가...            311  ...   \n",
       "2  당신의 밤을 불태울 5000mg. \\r\\n지친 남성들을 위한 혁신적인 제안. 이유있...            289  ...   \n",
       "3  \"여성청결제 믿고 사용해도 될까?\" #착한성분#냄새 #분비물에 효과적인 이너 여성청...            311  ...   \n",
       "4  내 귀에 꼭 맞는 트루 와이어리스 이어폰 – VieFit! 글로벌펀딩 성공과 향상된...            287  ...   \n",
       "\n",
       "  supportFBCnt  targetAmount  targetMessage  \\\n",
       "0            0             0           None   \n",
       "1            0             0           None   \n",
       "2            0             0           None   \n",
       "3            0             0           None   \n",
       "4            0             0           None   \n",
       "\n",
       "                                    title  totalBackedAmount userId  \\\n",
       "0   [여성청결제] for 엄마, 누나, 할머니, 동생, 아내, 여자친구           19386500     -1   \n",
       "1     3400%앵콜⭐2 in 1 천연향수&여성/남성청결제, 위생·향기           19370300     -1   \n",
       "2             영웅의 힘을 탐하다! 남성활력 아르기닌 '아르맨'           38734600     -1   \n",
       "3  [2935% 앵콜]\"신개념여성청결제\" Y존 냄새습기먹는 하마.이너샤인           19367000     -1   \n",
       "4         글로벌 10억,돌려끼우는 완전무선이어폰, 커스텀핏 비핏!          193664901     -1   \n",
       "\n",
       "   userPhotoUrl waditorSays waditorTitle             whenOpen  \n",
       "0          None        None         None  2018-12-06 14:00:29  \n",
       "1          None        None         None  2019-06-26 14:00:30  \n",
       "2          None        None         None  2019-08-12 14:00:33  \n",
       "3          None        None         None  2019-10-07 17:06:59  \n",
       "4          None        None         None  2018-11-01 14:00:27  \n",
       "\n",
       "[5 rows x 50 columns]"
      ]
     },
     "execution_count": 26,
     "metadata": {},
     "output_type": "execute_result"
    }
   ],
   "source": [
    "crowding_df = pd.DataFrame(json_content['data'])\n",
    "crowding_df.head()"
   ]
  },
  {
   "cell_type": "code",
   "execution_count": 27,
   "metadata": {
    "scrolled": true
   },
   "outputs": [
    {
     "data": {
      "text/plain": [
       "0        뷰티\n",
       "1        뷰티\n",
       "2        푸드\n",
       "3        뷰티\n",
       "4     테크·가전\n",
       "5       홈리빙\n",
       "6     테크·가전\n",
       "7     패션·잡화\n",
       "8     테크·가전\n",
       "9        푸드\n",
       "10      홈리빙\n",
       "11       푸드\n",
       "12    테크·가전\n",
       "13      홈리빙\n",
       "14    패션·잡화\n",
       "15       푸드\n",
       "16       뷰티\n",
       "17       뷰티\n",
       "18     반려동물\n",
       "19       푸드\n",
       "20      홈리빙\n",
       "21    패션·잡화\n",
       "22      홈리빙\n",
       "23     반려동물\n",
       "24    테크·가전\n",
       "25    디자인소품\n",
       "26       푸드\n",
       "27    테크·가전\n",
       "28    패션·잡화\n",
       "29       푸드\n",
       "      ...  \n",
       "70     반려동물\n",
       "71      홈리빙\n",
       "72    패션·잡화\n",
       "73       뷰티\n",
       "74      홈리빙\n",
       "75       푸드\n",
       "76      홈리빙\n",
       "77      홈리빙\n",
       "78    패션·잡화\n",
       "79    패션·잡화\n",
       "80       뷰티\n",
       "81      홈리빙\n",
       "82       푸드\n",
       "83       푸드\n",
       "84     반려동물\n",
       "85      홈리빙\n",
       "86       푸드\n",
       "87    테크·가전\n",
       "88      홈리빙\n",
       "89       푸드\n",
       "90      홈리빙\n",
       "91    교육·키즈\n",
       "92    테크·가전\n",
       "93       뷰티\n",
       "94       뷰티\n",
       "95    패션·잡화\n",
       "96       푸드\n",
       "97      홈리빙\n",
       "98    디자인소품\n",
       "99    패션·잡화\n",
       "Name: custValueCodeNm, Length: 100, dtype: object"
      ]
     },
     "execution_count": 27,
     "metadata": {},
     "output_type": "execute_result"
    }
   ],
   "source": [
    "crowding_df['custValueCodeNm']"
   ]
  },
  {
   "cell_type": "code",
   "execution_count": 28,
   "metadata": {},
   "outputs": [
    {
     "data": {
      "text/plain": [
       "Index(['achievementRate', 'blurCharacterColor', 'blurPhotoUrl', 'campaignId',\n",
       "       'campaignUpdateCnt', 'characterColor', 'companyType', 'companyTypeNm',\n",
       "       'coreMessage', 'custValueCode', 'custValueCodeNm', 'encIntUserId',\n",
       "       'encUserId', 'encourageCnt', 'endYn', 'eqCamStats', 'globalId',\n",
       "       'hashKeyword', 'hostName', 'incomeDeductYn', 'isAllOrNothing', 'isOpen',\n",
       "       'isStandingBy', 'isSubmitted', 'linkType', 'linkUrl', 'listCount',\n",
       "       'main', 'miniBoardCnt', 'nickName', 'openYear', 'participationCnt',\n",
       "       'photoThumbnail', 'photoThumbnailUrl', 'photoUrl', 'popularPoint',\n",
       "       'premiumYn', 'privateYn', 'remainingDay', 'signatureCnt',\n",
       "       'supportFBCnt', 'targetAmount', 'targetMessage', 'title',\n",
       "       'totalBackedAmount', 'userId', 'userPhotoUrl', 'waditorSays',\n",
       "       'waditorTitle', 'whenOpen'],\n",
       "      dtype='object')"
      ]
     },
     "execution_count": 28,
     "metadata": {},
     "output_type": "execute_result"
    }
   ],
   "source": [
    "crowding_df.columns"
   ]
  },
  {
   "cell_type": "code",
   "execution_count": 29,
   "metadata": {},
   "outputs": [],
   "source": [
    "crowding_list = crowding_df[['campaignId', 'title', 'totalBackedAmount', 'achievementRate', 'participationCnt','custValueCodeNm','custValueCode']]"
   ]
  },
  {
   "cell_type": "code",
   "execution_count": 30,
   "metadata": {},
   "outputs": [
    {
     "data": {
      "text/html": [
       "<div>\n",
       "<style scoped>\n",
       "    .dataframe tbody tr th:only-of-type {\n",
       "        vertical-align: middle;\n",
       "    }\n",
       "\n",
       "    .dataframe tbody tr th {\n",
       "        vertical-align: top;\n",
       "    }\n",
       "\n",
       "    .dataframe thead th {\n",
       "        text-align: right;\n",
       "    }\n",
       "</style>\n",
       "<table border=\"1\" class=\"dataframe\">\n",
       "  <thead>\n",
       "    <tr style=\"text-align: right;\">\n",
       "      <th></th>\n",
       "      <th>campaignId</th>\n",
       "      <th>title</th>\n",
       "      <th>totalBackedAmount</th>\n",
       "      <th>achievementRate</th>\n",
       "      <th>participationCnt</th>\n",
       "      <th>custValueCodeNm</th>\n",
       "      <th>custValueCode</th>\n",
       "    </tr>\n",
       "  </thead>\n",
       "  <tbody>\n",
       "    <tr>\n",
       "      <th>0</th>\n",
       "      <td>26537</td>\n",
       "      <td>[여성청결제] for 엄마, 누나, 할머니, 동생, 아내, 여자친구</td>\n",
       "      <td>19386500</td>\n",
       "      <td>3877</td>\n",
       "      <td>533</td>\n",
       "      <td>뷰티</td>\n",
       "      <td>311</td>\n",
       "    </tr>\n",
       "    <tr>\n",
       "      <th>1</th>\n",
       "      <td>36333</td>\n",
       "      <td>3400%앵콜⭐2 in 1 천연향수&amp;여성/남성청결제, 위생·향기</td>\n",
       "      <td>19370300</td>\n",
       "      <td>3874</td>\n",
       "      <td>439</td>\n",
       "      <td>뷰티</td>\n",
       "      <td>311</td>\n",
       "    </tr>\n",
       "    <tr>\n",
       "      <th>2</th>\n",
       "      <td>38294</td>\n",
       "      <td>영웅의 힘을 탐하다! 남성활력 아르기닌 '아르맨'</td>\n",
       "      <td>38734600</td>\n",
       "      <td>3873</td>\n",
       "      <td>367</td>\n",
       "      <td>푸드</td>\n",
       "      <td>289</td>\n",
       "    </tr>\n",
       "    <tr>\n",
       "      <th>3</th>\n",
       "      <td>38769</td>\n",
       "      <td>[2935% 앵콜]\"신개념여성청결제\" Y존 냄새습기먹는 하마.이너샤인</td>\n",
       "      <td>19367000</td>\n",
       "      <td>3873</td>\n",
       "      <td>403</td>\n",
       "      <td>뷰티</td>\n",
       "      <td>311</td>\n",
       "    </tr>\n",
       "    <tr>\n",
       "      <th>4</th>\n",
       "      <td>18614</td>\n",
       "      <td>글로벌 10억,돌려끼우는 완전무선이어폰, 커스텀핏 비핏!</td>\n",
       "      <td>193664901</td>\n",
       "      <td>3873</td>\n",
       "      <td>1722</td>\n",
       "      <td>테크·가전</td>\n",
       "      <td>287</td>\n",
       "    </tr>\n",
       "  </tbody>\n",
       "</table>\n",
       "</div>"
      ],
      "text/plain": [
       "   campaignId                                   title  totalBackedAmount  \\\n",
       "0       26537   [여성청결제] for 엄마, 누나, 할머니, 동생, 아내, 여자친구           19386500   \n",
       "1       36333     3400%앵콜⭐2 in 1 천연향수&여성/남성청결제, 위생·향기           19370300   \n",
       "2       38294             영웅의 힘을 탐하다! 남성활력 아르기닌 '아르맨'           38734600   \n",
       "3       38769  [2935% 앵콜]\"신개념여성청결제\" Y존 냄새습기먹는 하마.이너샤인           19367000   \n",
       "4       18614         글로벌 10억,돌려끼우는 완전무선이어폰, 커스텀핏 비핏!          193664901   \n",
       "\n",
       "   achievementRate  participationCnt custValueCodeNm  custValueCode  \n",
       "0             3877               533              뷰티            311  \n",
       "1             3874               439              뷰티            311  \n",
       "2             3873               367              푸드            289  \n",
       "3             3873               403              뷰티            311  \n",
       "4             3873              1722           테크·가전            287  "
      ]
     },
     "execution_count": 30,
     "metadata": {},
     "output_type": "execute_result"
    }
   ],
   "source": [
    "crowding_list.head()"
   ]
  },
  {
   "cell_type": "code",
   "execution_count": 31,
   "metadata": {},
   "outputs": [],
   "source": [
    "crowding_list.columns = ['ID', '상품명', '총액', '달성율', '서포터 수', '종목','종목 코드']"
   ]
  },
  {
   "cell_type": "code",
   "execution_count": 32,
   "metadata": {},
   "outputs": [
    {
     "data": {
      "text/html": [
       "<div>\n",
       "<style scoped>\n",
       "    .dataframe tbody tr th:only-of-type {\n",
       "        vertical-align: middle;\n",
       "    }\n",
       "\n",
       "    .dataframe tbody tr th {\n",
       "        vertical-align: top;\n",
       "    }\n",
       "\n",
       "    .dataframe thead th {\n",
       "        text-align: right;\n",
       "    }\n",
       "</style>\n",
       "<table border=\"1\" class=\"dataframe\">\n",
       "  <thead>\n",
       "    <tr style=\"text-align: right;\">\n",
       "      <th></th>\n",
       "      <th>ID</th>\n",
       "      <th>상품명</th>\n",
       "      <th>총액</th>\n",
       "      <th>달성율</th>\n",
       "      <th>서포터 수</th>\n",
       "      <th>종목</th>\n",
       "      <th>종목 코드</th>\n",
       "    </tr>\n",
       "  </thead>\n",
       "  <tbody>\n",
       "    <tr>\n",
       "      <th>0</th>\n",
       "      <td>26537</td>\n",
       "      <td>[여성청결제] for 엄마, 누나, 할머니, 동생, 아내, 여자친구</td>\n",
       "      <td>19386500</td>\n",
       "      <td>3877</td>\n",
       "      <td>533</td>\n",
       "      <td>뷰티</td>\n",
       "      <td>311</td>\n",
       "    </tr>\n",
       "    <tr>\n",
       "      <th>1</th>\n",
       "      <td>36333</td>\n",
       "      <td>3400%앵콜⭐2 in 1 천연향수&amp;여성/남성청결제, 위생·향기</td>\n",
       "      <td>19370300</td>\n",
       "      <td>3874</td>\n",
       "      <td>439</td>\n",
       "      <td>뷰티</td>\n",
       "      <td>311</td>\n",
       "    </tr>\n",
       "    <tr>\n",
       "      <th>2</th>\n",
       "      <td>38294</td>\n",
       "      <td>영웅의 힘을 탐하다! 남성활력 아르기닌 '아르맨'</td>\n",
       "      <td>38734600</td>\n",
       "      <td>3873</td>\n",
       "      <td>367</td>\n",
       "      <td>푸드</td>\n",
       "      <td>289</td>\n",
       "    </tr>\n",
       "    <tr>\n",
       "      <th>3</th>\n",
       "      <td>38769</td>\n",
       "      <td>[2935% 앵콜]\"신개념여성청결제\" Y존 냄새습기먹는 하마.이너샤인</td>\n",
       "      <td>19367000</td>\n",
       "      <td>3873</td>\n",
       "      <td>403</td>\n",
       "      <td>뷰티</td>\n",
       "      <td>311</td>\n",
       "    </tr>\n",
       "    <tr>\n",
       "      <th>4</th>\n",
       "      <td>18614</td>\n",
       "      <td>글로벌 10억,돌려끼우는 완전무선이어폰, 커스텀핏 비핏!</td>\n",
       "      <td>193664901</td>\n",
       "      <td>3873</td>\n",
       "      <td>1722</td>\n",
       "      <td>테크·가전</td>\n",
       "      <td>287</td>\n",
       "    </tr>\n",
       "  </tbody>\n",
       "</table>\n",
       "</div>"
      ],
      "text/plain": [
       "      ID                                     상품명         총액   달성율  서포터 수  \\\n",
       "0  26537   [여성청결제] for 엄마, 누나, 할머니, 동생, 아내, 여자친구   19386500  3877    533   \n",
       "1  36333     3400%앵콜⭐2 in 1 천연향수&여성/남성청결제, 위생·향기   19370300  3874    439   \n",
       "2  38294             영웅의 힘을 탐하다! 남성활력 아르기닌 '아르맨'   38734600  3873    367   \n",
       "3  38769  [2935% 앵콜]\"신개념여성청결제\" Y존 냄새습기먹는 하마.이너샤인   19367000  3873    403   \n",
       "4  18614         글로벌 10억,돌려끼우는 완전무선이어폰, 커스텀핏 비핏!  193664901  3873   1722   \n",
       "\n",
       "      종목  종목 코드  \n",
       "0     뷰티    311  \n",
       "1     뷰티    311  \n",
       "2     푸드    289  \n",
       "3     뷰티    311  \n",
       "4  테크·가전    287  "
      ]
     },
     "execution_count": 32,
     "metadata": {},
     "output_type": "execute_result"
    }
   ],
   "source": [
    "crowding_list.head()"
   ]
  },
  {
   "cell_type": "code",
   "execution_count": 38,
   "metadata": {},
   "outputs": [],
   "source": [
    "import matplotlib.pyplot as plt\n",
    "%matplotlib inline"
   ]
  },
  {
   "cell_type": "code",
   "execution_count": 39,
   "metadata": {},
   "outputs": [],
   "source": [
    "import platform\n",
    "\n",
    "from matplotlib import font_manager, rc\n",
    "plt.rcParams['axes.unicode_minus'] = False\n",
    "\n",
    "if platform.system() == 'Darwin' : \n",
    "    rc('font', family = 'AppleGothic')\n",
    "elif platform.system() == 'Windows' : \n",
    "    path = \"c:/Windows/Fonts/10X10.ttf\"\n",
    "    font_name = font_manager.FontProperties(fname = path).get_name()\n",
    "    rc('font', family = font_name)\n",
    "else : \n",
    "    print('Unkown system...')"
   ]
  },
  {
   "cell_type": "code",
   "execution_count": 40,
   "metadata": {},
   "outputs": [
    {
     "data": {
      "image/png": "[encoded data removed]",
      "text/plain": [
       "<Figure size 720x3600 with 1 Axes>"
      ]
     },
     "metadata": {
      "needs_background": "light"
     },
     "output_type": "display_data"
    }
   ],
   "source": [
    "plt.figure()\n",
    "crowding_list['총액'].plot(kind = 'barh', grid = True, figsize = (10, 50))\n",
    "plt.show()"
   ]
  },
  {
   "cell_type": "code",
   "execution_count": 41,
   "metadata": {},
   "outputs": [
    {
     "data": {
      "text/html": [
       "<div>\n",
       "<style scoped>\n",
       "    .dataframe tbody tr th:only-of-type {\n",
       "        vertical-align: middle;\n",
       "    }\n",
       "\n",
       "    .dataframe tbody tr th {\n",
       "        vertical-align: top;\n",
       "    }\n",
       "\n",
       "    .dataframe thead th {\n",
       "        text-align: right;\n",
       "    }\n",
       "</style>\n",
       "<table border=\"1\" class=\"dataframe\">\n",
       "  <thead>\n",
       "    <tr style=\"text-align: right;\">\n",
       "      <th></th>\n",
       "      <th>ID</th>\n",
       "      <th>상품명</th>\n",
       "      <th>총액</th>\n",
       "      <th>달성율</th>\n",
       "      <th>서포터 수</th>\n",
       "      <th>종목</th>\n",
       "      <th>종목 코드</th>\n",
       "    </tr>\n",
       "  </thead>\n",
       "  <tbody>\n",
       "    <tr>\n",
       "      <th>0</th>\n",
       "      <td>26537</td>\n",
       "      <td>[여성청결제] for 엄마, 누나, 할머니, 동생, 아내, 여자친구</td>\n",
       "      <td>19386500</td>\n",
       "      <td>3877</td>\n",
       "      <td>533</td>\n",
       "      <td>뷰티</td>\n",
       "      <td>311</td>\n",
       "    </tr>\n",
       "    <tr>\n",
       "      <th>1</th>\n",
       "      <td>36333</td>\n",
       "      <td>3400%앵콜⭐2 in 1 천연향수&amp;여성/남성청결제, 위생·향기</td>\n",
       "      <td>19370300</td>\n",
       "      <td>3874</td>\n",
       "      <td>439</td>\n",
       "      <td>뷰티</td>\n",
       "      <td>311</td>\n",
       "    </tr>\n",
       "    <tr>\n",
       "      <th>2</th>\n",
       "      <td>38294</td>\n",
       "      <td>영웅의 힘을 탐하다! 남성활력 아르기닌 '아르맨'</td>\n",
       "      <td>38734600</td>\n",
       "      <td>3873</td>\n",
       "      <td>367</td>\n",
       "      <td>푸드</td>\n",
       "      <td>289</td>\n",
       "    </tr>\n",
       "    <tr>\n",
       "      <th>3</th>\n",
       "      <td>38769</td>\n",
       "      <td>[2935% 앵콜]\"신개념여성청결제\" Y존 냄새습기먹는 하마.이너샤인</td>\n",
       "      <td>19367000</td>\n",
       "      <td>3873</td>\n",
       "      <td>403</td>\n",
       "      <td>뷰티</td>\n",
       "      <td>311</td>\n",
       "    </tr>\n",
       "    <tr>\n",
       "      <th>4</th>\n",
       "      <td>18614</td>\n",
       "      <td>글로벌 10억,돌려끼우는 완전무선이어폰, 커스텀핏 비핏!</td>\n",
       "      <td>193664901</td>\n",
       "      <td>3873</td>\n",
       "      <td>1722</td>\n",
       "      <td>테크·가전</td>\n",
       "      <td>287</td>\n",
       "    </tr>\n",
       "    <tr>\n",
       "      <th>5</th>\n",
       "      <td>36215</td>\n",
       "      <td>옷정리를 1초만에 \"허들바지걸이 Ver2.0\"</td>\n",
       "      <td>38664300</td>\n",
       "      <td>3866</td>\n",
       "      <td>1531</td>\n",
       "      <td>홈리빙</td>\n",
       "      <td>310</td>\n",
       "    </tr>\n",
       "    <tr>\n",
       "      <th>6</th>\n",
       "      <td>35492</td>\n",
       "      <td>물을 뿌리고 흡입하는 진공 물청소기! 라면도 한번에흡입! 벤투스아쿠아프로</td>\n",
       "      <td>38400200</td>\n",
       "      <td>3840</td>\n",
       "      <td>173</td>\n",
       "      <td>테크·가전</td>\n",
       "      <td>287</td>\n",
       "    </tr>\n",
       "    <tr>\n",
       "      <th>7</th>\n",
       "      <td>44209</td>\n",
       "      <td>[1.5억 앵콜] 구름위를 걷는것 같은 편안함!! 에어 라텍스 스니커즈!</td>\n",
       "      <td>114226000</td>\n",
       "      <td>3807</td>\n",
       "      <td>1500</td>\n",
       "      <td>패션·잡화</td>\n",
       "      <td>288</td>\n",
       "    </tr>\n",
       "    <tr>\n",
       "      <th>8</th>\n",
       "      <td>34442</td>\n",
       "      <td>[갖고싶은연말선물] 306개의 LED로 얼굴과 목까지 한번에 관리</td>\n",
       "      <td>114191000</td>\n",
       "      <td>3806</td>\n",
       "      <td>347</td>\n",
       "      <td>테크·가전</td>\n",
       "      <td>287</td>\n",
       "    </tr>\n",
       "    <tr>\n",
       "      <th>9</th>\n",
       "      <td>28972</td>\n",
       "      <td>매일 1일 1달콩 하자! 고단백 콩의 영양과 초코의 달콤함이 듬뿍!</td>\n",
       "      <td>19024000</td>\n",
       "      <td>3804</td>\n",
       "      <td>229</td>\n",
       "      <td>푸드</td>\n",
       "      <td>289</td>\n",
       "    </tr>\n",
       "  </tbody>\n",
       "</table>\n",
       "</div>"
      ],
      "text/plain": [
       "      ID                                       상품명         총액   달성율  서포터 수  \\\n",
       "0  26537     [여성청결제] for 엄마, 누나, 할머니, 동생, 아내, 여자친구   19386500  3877    533   \n",
       "1  36333       3400%앵콜⭐2 in 1 천연향수&여성/남성청결제, 위생·향기   19370300  3874    439   \n",
       "2  38294               영웅의 힘을 탐하다! 남성활력 아르기닌 '아르맨'   38734600  3873    367   \n",
       "3  38769    [2935% 앵콜]\"신개념여성청결제\" Y존 냄새습기먹는 하마.이너샤인   19367000  3873    403   \n",
       "4  18614           글로벌 10억,돌려끼우는 완전무선이어폰, 커스텀핏 비핏!  193664901  3873   1722   \n",
       "5  36215                 옷정리를 1초만에 \"허들바지걸이 Ver2.0\"   38664300  3866   1531   \n",
       "6  35492  물을 뿌리고 흡입하는 진공 물청소기! 라면도 한번에흡입! 벤투스아쿠아프로   38400200  3840    173   \n",
       "7  44209  [1.5억 앵콜] 구름위를 걷는것 같은 편안함!! 에어 라텍스 스니커즈!  114226000  3807   1500   \n",
       "8  34442      [갖고싶은연말선물] 306개의 LED로 얼굴과 목까지 한번에 관리  114191000  3806    347   \n",
       "9  28972     매일 1일 1달콩 하자! 고단백 콩의 영양과 초코의 달콤함이 듬뿍!   19024000  3804    229   \n",
       "\n",
       "      종목  종목 코드  \n",
       "0     뷰티    311  \n",
       "1     뷰티    311  \n",
       "2     푸드    289  \n",
       "3     뷰티    311  \n",
       "4  테크·가전    287  \n",
       "5    홈리빙    310  \n",
       "6  테크·가전    287  \n",
       "7  패션·잡화    288  \n",
       "8  테크·가전    287  \n",
       "9     푸드    289  "
      ]
     },
     "execution_count": 41,
     "metadata": {},
     "output_type": "execute_result"
    }
   ],
   "source": [
    "crowding_list[0:10]"
   ]
  },
  {
   "cell_type": "code",
   "execution_count": 42,
   "metadata": {},
   "outputs": [
    {
     "data": {
      "text/plain": [
       "{287, 288, 289, 290, 294, 296, 297, 308, 309, 310, 311}"
      ]
     },
     "execution_count": 42,
     "metadata": {},
     "output_type": "execute_result"
    }
   ],
   "source": [
    "set(crowding_list['종목 코드'])"
   ]
  },
  {
   "cell_type": "code",
   "execution_count": 43,
   "metadata": {},
   "outputs": [
    {
     "data": {
      "image/png": "[encoded data removed]",
      "text/plain": [
       "<Figure size 1440x1440 with 1 Axes>"
      ]
     },
     "metadata": {
      "needs_background": "light"
     },
     "output_type": "display_data"
    }
   ],
   "source": [
    "plt.figure(figsize = (20,20))\n",
    "\n",
    "color_list = ['#800000', '#FFFF00', '#808000', '#008080', '#000080', '#800080',  '#FF69B4', '#4B0082', '#B0C4DE', '#48D1CC', '#BC8F8F']\n",
    "i = 0\n",
    "for c in set(crowding_list['종목 코드']):\n",
    "    temp = crowding_list[crowding_list['종목 코드']==c]\n",
    "    plt.scatter(x = temp['달성율'],\n",
    "               y = temp['서포터 수'],\n",
    "               s = temp['총액']/100000,\n",
    "               c = color_list[i],\n",
    "               label= set(temp['종목']),\n",
    "               alpha=0.5, edgecolors='none')\n",
    "    i= i+1\n",
    "\n",
    "plt.title(\"종목 별 서포터 수 및 달성율의 관계\", fontsize = 30)\n",
    "plt.xlabel('달성율', fontsize = 20)\n",
    "plt.ylabel('서포터 수', fontsize = 20)\n",
    "\n",
    "plt.legend()\n",
    "plt.grid()\n",
    "plt.show()"
   ]
  }
 ],
 "metadata": {
  "kernelspec": {
   "display_name": "Python 3",
   "language": "python",
   "name": "python3"
  },
  "language_info": {
   "codemirror_mode": {
    "name": "ipython",
    "version": 3
   },
   "file_extension": ".py",
   "mimetype": "text/x-python",
   "name": "python",
   "nbconvert_exporter": "python",
   "pygments_lexer": "ipython3",
   "version": "3.7.3"
  }
 },
 "nbformat": 4,
 "nbformat_minor": 2
}
